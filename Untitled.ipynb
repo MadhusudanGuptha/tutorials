{
 "cells": [
  {
   "cell_type": "code",
   "execution_count": null,
   "metadata": {},
   "outputs": [],
   "source": [
    "import covid as co"
   ]
  },
  {
   "cell_type": "code",
   "execution_count": null,
   "metadata": {},
   "outputs": [],
   "source": [
    "print(dir(covid))"
   ]
  },
  {
   "cell_type": "code",
   "execution_count": null,
   "metadata": {},
   "outputs": [],
   "source": [
    "from covid_india import states\n"
   ]
  },
  {
   "cell_type": "code",
   "execution_count": null,
   "metadata": {},
   "outputs": [],
   "source": [
    "from covid_india import states\n",
    "print(states.getdata('Andhra Pradesh'))"
   ]
  },
  {
   "cell_type": "code",
   "execution_count": null,
   "metadata": {},
   "outputs": [],
   "source": [
    "import covid_india\n",
    "print(dir(covid_india))\n",
    "covid_india.states('Andhra Pradesh')"
   ]
  },
  {
   "cell_type": "code",
   "execution_count": null,
   "metadata": {},
   "outputs": [],
   "source": [
    "from covid import Covid\n",
    "covid =Covid()\n",
    "covid.get_data('country':'india')"
   ]
  },
  {
   "cell_type": "code",
   "execution_count": null,
   "metadata": {},
   "outputs": [],
   "source": [
    "import json\n",
    "\n",
    "# some JSON:\n",
    "x =  covid_india.states.getdata('Andhra Pradesh')\n",
    "\n",
    "# parse x:\n",
    "\n",
    "\n",
    "# the result is a Python dictionary:\n",
    "print(x) \n",
    "\n"
   ]
  },
  {
   "cell_type": "code",
   "execution_count": null,
   "metadata": {},
   "outputs": [],
   "source": [
    "from covid_india import states\n",
    "import tkinter as tk\n",
    "\n",
    "root= tk.Tk()\n",
    "\n",
    "canvas1 = tk.Canvas(root, width = 400, height = 350,  relief = 'raised')\n",
    "canvas1.pack()\n",
    "\n",
    "label1 = tk.Label(root, text='COVID-19 Pandemic India Status')\n",
    "label1.config(font=('helvetica', 14))\n",
    "canvas1.create_window(200, 25, window=label1)\n",
    "\n",
    "label2 = tk.Label(root, text='Name of the State:')\n",
    "label2.config(font=('helvetica', 10))\n",
    "canvas1.create_window(200, 100, window=label2)\n",
    "\n",
    "entry1 = tk.Entry (root) \n",
    "canvas1.create_window(200, 140, window=entry1)\n",
    "\n",
    "def getDetails ():\n",
    "    \n",
    "    x1 = entry1.get()\n",
    "    output=states.getdata(x1)\n",
    "    total_cases=output['Total']\n",
    "    text=f'''\n",
    "    \\n\\n The status of {x1}:\n",
    "    \\n Total Cases are {total_cases}\n",
    "    \\n Cured are {output['Cured']}\n",
    "    \\n Total Deaths are {output['Death']}'''\n",
    "\n",
    "    label3 = tk.Label(root, text=text, font=('helvetica', 10))\n",
    "    canvas1.create_window(200, 260, window=label3)\n",
    "    \n",
    "   \n",
    "    \n",
    "button1 = tk.Button(text='Status', command=getDetails, bg='brown', fg='white', font=('helvetica', 9, 'bold'))\n",
    "canvas1.create_window(200, 180, window=button1)\n",
    "\n",
    "root.mainloop()"
   ]
  },
  {
   "cell_type": "code",
   "execution_count": null,
   "metadata": {},
   "outputs": [],
   "source": [
    "import tkinter as tk\n",
    "\n",
    "root= tk.Tk()\n",
    "\n",
    "canvas1 = tk.Canvas(root, width = 400, height = 300)\n",
    "canvas1.pack()\n",
    "\n",
    "entry1 = tk.Entry (root) \n",
    "canvas1.create_window(200, 140, window=entry1)\n",
    "\n",
    "def getSquareRoot ():  \n",
    "    x1 = entry1.get()\n",
    "    \n",
    "    label1 = tk.Label(root, text= float(x1)**0.5)\n",
    "    canvas1.create_window(200, 230, window=label1)\n",
    "    \n",
    "button1 = tk.Button(text='Get the Status of '+entry, command=getSquareRoot)\n",
    "canvas1.create_window(200, 180, window=button1)\n",
    "\n",
    "root.mainloop()"
   ]
  },
  {
   "cell_type": "code",
   "execution_count": null,
   "metadata": {},
   "outputs": [],
   "source": [
    "import json\n",
    "a = json.loads(covid.get_status_by_country_name('india'))\n",
    "a"
   ]
  },
  {
   "cell_type": "code",
   "execution_count": 1,
   "metadata": {},
   "outputs": [
    {
     "ename": "ModuleNotFoundError",
     "evalue": "No module named 'kivy'",
     "output_type": "error",
     "traceback": [
      "\u001b[0;31m---------------------------------------------------------------------------\u001b[0m",
      "\u001b[0;31mModuleNotFoundError\u001b[0m                       Traceback (most recent call last)",
      "\u001b[0;32m<ipython-input-1-04ecba6f9778>\u001b[0m in \u001b[0;36m<module>\u001b[0;34m\u001b[0m\n\u001b[0;32m----> 1\u001b[0;31m \u001b[0;32mfrom\u001b[0m \u001b[0mkivy\u001b[0m\u001b[0;34m.\u001b[0m\u001b[0mapp\u001b[0m \u001b[0;32mimport\u001b[0m \u001b[0mApp\u001b[0m\u001b[0;34m\u001b[0m\u001b[0;34m\u001b[0m\u001b[0m\n\u001b[0m",
      "\u001b[0;31mModuleNotFoundError\u001b[0m: No module named 'kivy'"
     ]
    }
   ],
   "source": [
    "from kivy.app import App\n"
   ]
  },
  {
   "cell_type": "code",
   "execution_count": 4,
   "metadata": {},
   "outputs": [
    {
     "ename": "SyntaxError",
     "evalue": "invalid syntax (<ipython-input-4-a6f42e7912af>, line 1)",
     "output_type": "error",
     "traceback": [
      "\u001b[0;36m  File \u001b[0;32m\"<ipython-input-4-a6f42e7912af>\"\u001b[0;36m, line \u001b[0;32m1\u001b[0m\n\u001b[0;31m    >conda install -c conda-forge kivy\u001b[0m\n\u001b[0m    ^\u001b[0m\n\u001b[0;31mSyntaxError\u001b[0m\u001b[0;31m:\u001b[0m invalid syntax\n"
     ]
    }
   ],
   "source": [
    "conda install -c conda-forge kivy"
   ]
  },
  {
   "cell_type": "code",
   "execution_count": null,
   "metadata": {},
   "outputs": [],
   "source": []
  },
  {
   "cell_type": "code",
   "execution_count": null,
   "metadata": {},
   "outputs": [],
   "source": []
  }
 ],
 "metadata": {
  "kernelspec": {
   "display_name": "Python 3",
   "language": "python",
   "name": "python3"
  },
  "language_info": {
   "codemirror_mode": {
    "name": "ipython",
    "version": 3
   },
   "file_extension": ".py",
   "mimetype": "text/x-python",
   "name": "python",
   "nbconvert_exporter": "python",
   "pygments_lexer": "ipython3",
   "version": "3.7.1"
  }
 },
 "nbformat": 4,
 "nbformat_minor": 2
}
